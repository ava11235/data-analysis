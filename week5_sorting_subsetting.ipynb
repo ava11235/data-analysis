{
  "nbformat": 4,
  "nbformat_minor": 0,
  "metadata": {
    "colab": {
      "name": "week5_sorting_subsetting.ipynb",
      "provenance": [],
      "authorship_tag": "ABX9TyOLX9ZkwkFwbkjkU9nUz3cN",
      "include_colab_link": true
    },
    "kernelspec": {
      "name": "python3",
      "display_name": "Python 3"
    },
    "language_info": {
      "name": "python"
    }
  },
  "cells": [
    {
      "cell_type": "markdown",
      "metadata": {
        "id": "view-in-github",
        "colab_type": "text"
      },
      "source": [
        "<a href=\"https://colab.research.google.com/github/ava11235/it125/blob/main/week5_sorting_subsetting.ipynb\" target=\"_parent\"><img src=\"https://colab.research.google.com/assets/colab-badge.svg\" alt=\"Open In Colab\"/></a>"
      ]
    },
    {
      "cell_type": "markdown",
      "metadata": {
        "id": "FHcZWSD-r58A"
      },
      "source": [
        "### Subsetting and sorting DataFrames\n",
        "\n",
        "The pandas package is used for importing data into Python, as well as for data manipulation and data visualization.  pandas was built on top of NumPy and Matplotlib.\n",
        "\n",
        "In pandas rectangular, tabular data is represented as a DataFrame object with columns and rows. Every column has a textual or numeric data type. Different columns can have different data types.\n",
        "\n",
        "\n",
        "### Summary of functions for exploring a panda dataframe:\n",
        "\n",
        "``` .head() ```\n",
        "\n",
        "Returns the first several rows of a dataframe. Can be very helpful if the dataframe has many rows.\n",
        "\n",
        "``` .info() ```\n",
        "\n",
        "Displays the names of columns, their data types and if they have any missing values.\n",
        "\n",
        "``` .shape ``` \n",
        "\n",
        "This attribute (no parenthesis) displays the number of rows and the number of columns. \n",
        "\n",
        "``` .describe() ```\n",
        "\n",
        "Computes summary statistics for numerical columns, such as  mean, median, and std. \"count\" displays the number of non-missing values in each column. \n",
        "\n",
        "``` .values ```\n",
        "\n",
        "The values attribute displays the data values in a 2D NumPy array.\n",
        "\n",
        "``` \n",
        " .columns \n",
        " .index \n",
        " ```\n",
        "The columns attribute contains column names, and the index attribute contains row numbers or row names. Note that  row labels are stored in dot-index rather than dot-rows. They are of type Index object.\n"
      ]
    },
    {
      "cell_type": "code",
      "metadata": {
        "id": "f5t0BBjYpUqS",
        "colab": {
          "base_uri": "https://localhost:8080/",
          "height": 202
        },
        "outputId": "24c9d928-8665-4168-ab4f-a40356d72d11"
      },
      "source": [
        "import pandas as pd\n",
        "\n",
        "# import data into a dataframe object\n",
        "df = pd.read_csv(\"https://raw.githubusercontent.com/ava11235/it125/main/datasets/wallmart_sales.csv\")\n",
        "\n",
        "df.head()\n"
      ],
      "execution_count": null,
      "outputs": [
        {
          "output_type": "execute_result",
          "data": {
            "text/html": [
              "<div>\n",
              "<style scoped>\n",
              "    .dataframe tbody tr th:only-of-type {\n",
              "        vertical-align: middle;\n",
              "    }\n",
              "\n",
              "    .dataframe tbody tr th {\n",
              "        vertical-align: top;\n",
              "    }\n",
              "\n",
              "    .dataframe thead th {\n",
              "        text-align: right;\n",
              "    }\n",
              "</style>\n",
              "<table border=\"1\" class=\"dataframe\">\n",
              "  <thead>\n",
              "    <tr style=\"text-align: right;\">\n",
              "      <th></th>\n",
              "      <th>Unnamed: 0</th>\n",
              "      <th>store</th>\n",
              "      <th>type</th>\n",
              "      <th>department</th>\n",
              "      <th>date</th>\n",
              "      <th>weekly_sales</th>\n",
              "      <th>is_holiday</th>\n",
              "      <th>temperature_c</th>\n",
              "      <th>fuel_price_usd_per_l</th>\n",
              "      <th>unemployment</th>\n",
              "    </tr>\n",
              "  </thead>\n",
              "  <tbody>\n",
              "    <tr>\n",
              "      <th>0</th>\n",
              "      <td>0</td>\n",
              "      <td>1</td>\n",
              "      <td>A</td>\n",
              "      <td>1</td>\n",
              "      <td>2010-02-05</td>\n",
              "      <td>24924.50</td>\n",
              "      <td>False</td>\n",
              "      <td>5.727778</td>\n",
              "      <td>0.679451</td>\n",
              "      <td>8.106</td>\n",
              "    </tr>\n",
              "    <tr>\n",
              "      <th>1</th>\n",
              "      <td>1</td>\n",
              "      <td>1</td>\n",
              "      <td>A</td>\n",
              "      <td>1</td>\n",
              "      <td>2010-03-05</td>\n",
              "      <td>21827.90</td>\n",
              "      <td>False</td>\n",
              "      <td>8.055556</td>\n",
              "      <td>0.693452</td>\n",
              "      <td>8.106</td>\n",
              "    </tr>\n",
              "    <tr>\n",
              "      <th>2</th>\n",
              "      <td>2</td>\n",
              "      <td>1</td>\n",
              "      <td>A</td>\n",
              "      <td>1</td>\n",
              "      <td>2010-04-02</td>\n",
              "      <td>57258.43</td>\n",
              "      <td>False</td>\n",
              "      <td>16.816667</td>\n",
              "      <td>0.718284</td>\n",
              "      <td>7.808</td>\n",
              "    </tr>\n",
              "    <tr>\n",
              "      <th>3</th>\n",
              "      <td>3</td>\n",
              "      <td>1</td>\n",
              "      <td>A</td>\n",
              "      <td>1</td>\n",
              "      <td>2010-05-07</td>\n",
              "      <td>17413.94</td>\n",
              "      <td>False</td>\n",
              "      <td>22.527778</td>\n",
              "      <td>0.748928</td>\n",
              "      <td>7.808</td>\n",
              "    </tr>\n",
              "    <tr>\n",
              "      <th>4</th>\n",
              "      <td>4</td>\n",
              "      <td>1</td>\n",
              "      <td>A</td>\n",
              "      <td>1</td>\n",
              "      <td>2010-06-04</td>\n",
              "      <td>17558.09</td>\n",
              "      <td>False</td>\n",
              "      <td>27.050000</td>\n",
              "      <td>0.714586</td>\n",
              "      <td>7.808</td>\n",
              "    </tr>\n",
              "  </tbody>\n",
              "</table>\n",
              "</div>"
            ],
            "text/plain": [
              "   Unnamed: 0  store type  ...  temperature_c fuel_price_usd_per_l  unemployment\n",
              "0           0      1    A  ...       5.727778             0.679451         8.106\n",
              "1           1      1    A  ...       8.055556             0.693452         8.106\n",
              "2           2      1    A  ...      16.816667             0.718284         7.808\n",
              "3           3      1    A  ...      22.527778             0.748928         7.808\n",
              "4           4      1    A  ...      27.050000             0.714586         7.808\n",
              "\n",
              "[5 rows x 10 columns]"
            ]
          },
          "metadata": {
            "tags": []
          },
          "execution_count": 3
        }
      ]
    },
    {
      "cell_type": "code",
      "metadata": {
        "colab": {
          "base_uri": "https://localhost:8080/"
        },
        "id": "KCgLL1cBus73",
        "outputId": "5666cfcb-b925-41aa-d939-583f4c3e614a"
      },
      "source": [
        "df.info()\n"
      ],
      "execution_count": null,
      "outputs": [
        {
          "output_type": "stream",
          "text": [
            "<class 'pandas.core.frame.DataFrame'>\n",
            "RangeIndex: 10774 entries, 0 to 10773\n",
            "Data columns (total 10 columns):\n",
            " #   Column                Non-Null Count  Dtype  \n",
            "---  ------                --------------  -----  \n",
            " 0   Unnamed: 0            10774 non-null  int64  \n",
            " 1   store                 10774 non-null  int64  \n",
            " 2   type                  10774 non-null  object \n",
            " 3   department            10774 non-null  int64  \n",
            " 4   date                  10774 non-null  object \n",
            " 5   weekly_sales          10774 non-null  float64\n",
            " 6   is_holiday            10774 non-null  bool   \n",
            " 7   temperature_c         10774 non-null  float64\n",
            " 8   fuel_price_usd_per_l  10774 non-null  float64\n",
            " 9   unemployment          10774 non-null  float64\n",
            "dtypes: bool(1), float64(4), int64(3), object(2)\n",
            "memory usage: 768.2+ KB\n"
          ],
          "name": "stdout"
        }
      ]
    },
    {
      "cell_type": "code",
      "metadata": {
        "colab": {
          "base_uri": "https://localhost:8080/",
          "height": 294
        },
        "id": "p6ifN7Vvuzsa",
        "outputId": "04307a77-860f-4f67-e4f5-2dc4cb4caea9"
      },
      "source": [
        "df.describe()"
      ],
      "execution_count": null,
      "outputs": [
        {
          "output_type": "execute_result",
          "data": {
            "text/html": [
              "<div>\n",
              "<style scoped>\n",
              "    .dataframe tbody tr th:only-of-type {\n",
              "        vertical-align: middle;\n",
              "    }\n",
              "\n",
              "    .dataframe tbody tr th {\n",
              "        vertical-align: top;\n",
              "    }\n",
              "\n",
              "    .dataframe thead th {\n",
              "        text-align: right;\n",
              "    }\n",
              "</style>\n",
              "<table border=\"1\" class=\"dataframe\">\n",
              "  <thead>\n",
              "    <tr style=\"text-align: right;\">\n",
              "      <th></th>\n",
              "      <th>Unnamed: 0</th>\n",
              "      <th>store</th>\n",
              "      <th>department</th>\n",
              "      <th>weekly_sales</th>\n",
              "      <th>temperature_c</th>\n",
              "      <th>fuel_price_usd_per_l</th>\n",
              "      <th>unemployment</th>\n",
              "    </tr>\n",
              "  </thead>\n",
              "  <tbody>\n",
              "    <tr>\n",
              "      <th>count</th>\n",
              "      <td>10774.000000</td>\n",
              "      <td>10774.000000</td>\n",
              "      <td>10774.000000</td>\n",
              "      <td>10774.000000</td>\n",
              "      <td>10774.000000</td>\n",
              "      <td>10774.000000</td>\n",
              "      <td>10774.000000</td>\n",
              "    </tr>\n",
              "    <tr>\n",
              "      <th>mean</th>\n",
              "      <td>5386.500000</td>\n",
              "      <td>15.441897</td>\n",
              "      <td>45.218118</td>\n",
              "      <td>23843.950149</td>\n",
              "      <td>15.731978</td>\n",
              "      <td>0.749746</td>\n",
              "      <td>8.082009</td>\n",
              "    </tr>\n",
              "    <tr>\n",
              "      <th>std</th>\n",
              "      <td>3110.330234</td>\n",
              "      <td>11.534511</td>\n",
              "      <td>29.867779</td>\n",
              "      <td>30220.387557</td>\n",
              "      <td>9.922446</td>\n",
              "      <td>0.059494</td>\n",
              "      <td>0.624355</td>\n",
              "    </tr>\n",
              "    <tr>\n",
              "      <th>min</th>\n",
              "      <td>0.000000</td>\n",
              "      <td>1.000000</td>\n",
              "      <td>1.000000</td>\n",
              "      <td>-1098.000000</td>\n",
              "      <td>-8.366667</td>\n",
              "      <td>0.664129</td>\n",
              "      <td>3.879000</td>\n",
              "    </tr>\n",
              "    <tr>\n",
              "      <th>25%</th>\n",
              "      <td>2693.250000</td>\n",
              "      <td>4.000000</td>\n",
              "      <td>20.000000</td>\n",
              "      <td>3867.115000</td>\n",
              "      <td>7.583333</td>\n",
              "      <td>0.708246</td>\n",
              "      <td>7.795000</td>\n",
              "    </tr>\n",
              "    <tr>\n",
              "      <th>50%</th>\n",
              "      <td>5386.500000</td>\n",
              "      <td>13.000000</td>\n",
              "      <td>40.000000</td>\n",
              "      <td>12049.065000</td>\n",
              "      <td>16.966667</td>\n",
              "      <td>0.743381</td>\n",
              "      <td>8.099000</td>\n",
              "    </tr>\n",
              "    <tr>\n",
              "      <th>75%</th>\n",
              "      <td>8079.750000</td>\n",
              "      <td>20.000000</td>\n",
              "      <td>72.000000</td>\n",
              "      <td>32349.850000</td>\n",
              "      <td>24.166667</td>\n",
              "      <td>0.781421</td>\n",
              "      <td>8.360000</td>\n",
              "    </tr>\n",
              "    <tr>\n",
              "      <th>max</th>\n",
              "      <td>10773.000000</td>\n",
              "      <td>39.000000</td>\n",
              "      <td>99.000000</td>\n",
              "      <td>293966.050000</td>\n",
              "      <td>33.827778</td>\n",
              "      <td>1.107674</td>\n",
              "      <td>9.765000</td>\n",
              "    </tr>\n",
              "  </tbody>\n",
              "</table>\n",
              "</div>"
            ],
            "text/plain": [
              "         Unnamed: 0         store  ...  fuel_price_usd_per_l  unemployment\n",
              "count  10774.000000  10774.000000  ...          10774.000000  10774.000000\n",
              "mean    5386.500000     15.441897  ...              0.749746      8.082009\n",
              "std     3110.330234     11.534511  ...              0.059494      0.624355\n",
              "min        0.000000      1.000000  ...              0.664129      3.879000\n",
              "25%     2693.250000      4.000000  ...              0.708246      7.795000\n",
              "50%     5386.500000     13.000000  ...              0.743381      8.099000\n",
              "75%     8079.750000     20.000000  ...              0.781421      8.360000\n",
              "max    10773.000000     39.000000  ...              1.107674      9.765000\n",
              "\n",
              "[8 rows x 7 columns]"
            ]
          },
          "metadata": {
            "tags": []
          },
          "execution_count": 9
        }
      ]
    },
    {
      "cell_type": "code",
      "metadata": {
        "colab": {
          "base_uri": "https://localhost:8080/"
        },
        "id": "nBdxQ23Lu3gc",
        "outputId": "0a13ba83-f708-4152-bbe7-badfc3a209e4"
      },
      "source": [
        "df.values"
      ],
      "execution_count": null,
      "outputs": [
        {
          "output_type": "execute_result",
          "data": {
            "text/plain": [
              "array([[0, 1, 'A', ..., 5.727777777777778, 0.6794508388787476, 8.106],\n",
              "       [1, 1, 'A', ..., 8.055555555555555, 0.6934519642522211, 8.106],\n",
              "       [2, 1, 'A', ..., 16.81666666666667, 0.7182841488768721, 7.808],\n",
              "       ...,\n",
              "       [10771, 39, 'A', ..., 27.288888888888888, 0.911922354513778,\n",
              "        6.989],\n",
              "       [10772, 39, 'A', ..., 25.644444444444442, 0.8601446078496121,\n",
              "        6.622999999999998],\n",
              "       [10773, 39, 'A', ..., 22.25, 0.9555107636953459, 6.228]],\n",
              "      dtype=object)"
            ]
          },
          "metadata": {
            "tags": []
          },
          "execution_count": 11
        }
      ]
    },
    {
      "cell_type": "code",
      "metadata": {
        "colab": {
          "base_uri": "https://localhost:8080/"
        },
        "id": "Fm1cHqxUu-z4",
        "outputId": "f1ae1f63-e3d1-4f49-dbe2-82c522043bbe"
      },
      "source": [
        "df.columns"
      ],
      "execution_count": null,
      "outputs": [
        {
          "output_type": "execute_result",
          "data": {
            "text/plain": [
              "Index(['Unnamed: 0', 'store', 'type', 'department', 'date', 'weekly_sales',\n",
              "       'is_holiday', 'temperature_c', 'fuel_price_usd_per_l', 'unemployment'],\n",
              "      dtype='object')"
            ]
          },
          "metadata": {
            "tags": []
          },
          "execution_count": 12
        }
      ]
    },
    {
      "cell_type": "code",
      "metadata": {
        "colab": {
          "base_uri": "https://localhost:8080/"
        },
        "id": "rwuzXMKlvBFL",
        "outputId": "5440456e-5eba-4f62-d774-62c32d78851a"
      },
      "source": [
        "df.index"
      ],
      "execution_count": null,
      "outputs": [
        {
          "output_type": "execute_result",
          "data": {
            "text/plain": [
              "RangeIndex(start=0, stop=10774, step=1)"
            ]
          },
          "metadata": {
            "tags": []
          },
          "execution_count": 13
        }
      ]
    },
    {
      "cell_type": "markdown",
      "metadata": {
        "id": "GuSv1einvM3u"
      },
      "source": [
        "### Sorting \n",
        "\n",
        "Sorting a dataframe by rows can be in ascending or descending order. \n",
        "It is possible to sort by passing a list of column names.\n",
        "A dataframe can be subset by passing one or multiple column names, in which case you need two pairs of [[ ]] square brackets.\n",
        "\n",
        "Logical conditions, text or dates can be used to subset rows. Multiple conditions can be combined with the use of the logical operators.\n",
        "\n",
        "```.isin() ```\n",
        "\n",
        "To filter on multiple values of a categorical variables, the .isin() method can be used."
      ]
    },
    {
      "cell_type": "markdown",
      "metadata": {
        "id": "HGS6WBb77shA"
      },
      "source": [
        "Sorting by rows can be accomplished by passing a column name to\n",
        "``` \n",
        ".sort_values()```.\n",
        "\n",
        "When rows In cases where rows have the same value, as for example with categorical variables, multiple columns can be used to break the ties."
      ]
    },
    {
      "cell_type": "code",
      "metadata": {
        "colab": {
          "base_uri": "https://localhost:8080/",
          "height": 415
        },
        "id": "SZ1HF5ts-cgs",
        "outputId": "bded3340-6ffb-44e1-94fd-932ecdea51cf"
      },
      "source": [
        "df.sort_values('weekly_sales', ascending=False)"
      ],
      "execution_count": null,
      "outputs": [
        {
          "output_type": "execute_result",
          "data": {
            "text/html": [
              "<div>\n",
              "<style scoped>\n",
              "    .dataframe tbody tr th:only-of-type {\n",
              "        vertical-align: middle;\n",
              "    }\n",
              "\n",
              "    .dataframe tbody tr th {\n",
              "        vertical-align: top;\n",
              "    }\n",
              "\n",
              "    .dataframe thead th {\n",
              "        text-align: right;\n",
              "    }\n",
              "</style>\n",
              "<table border=\"1\" class=\"dataframe\">\n",
              "  <thead>\n",
              "    <tr style=\"text-align: right;\">\n",
              "      <th></th>\n",
              "      <th>Unnamed: 0</th>\n",
              "      <th>store</th>\n",
              "      <th>type</th>\n",
              "      <th>department</th>\n",
              "      <th>date</th>\n",
              "      <th>weekly_sales</th>\n",
              "      <th>is_holiday</th>\n",
              "      <th>temperature_c</th>\n",
              "      <th>fuel_price_usd_per_l</th>\n",
              "      <th>unemployment</th>\n",
              "    </tr>\n",
              "  </thead>\n",
              "  <tbody>\n",
              "    <tr>\n",
              "      <th>6201</th>\n",
              "      <td>6201</td>\n",
              "      <td>14</td>\n",
              "      <td>A</td>\n",
              "      <td>92</td>\n",
              "      <td>2010-02-05</td>\n",
              "      <td>293966.05</td>\n",
              "      <td>False</td>\n",
              "      <td>-2.605556</td>\n",
              "      <td>0.735455</td>\n",
              "      <td>8.992</td>\n",
              "    </tr>\n",
              "    <tr>\n",
              "      <th>4271</th>\n",
              "      <td>4271</td>\n",
              "      <td>10</td>\n",
              "      <td>B</td>\n",
              "      <td>72</td>\n",
              "      <td>2010-02-05</td>\n",
              "      <td>232558.51</td>\n",
              "      <td>False</td>\n",
              "      <td>12.411111</td>\n",
              "      <td>0.782478</td>\n",
              "      <td>9.765</td>\n",
              "    </tr>\n",
              "    <tr>\n",
              "      <th>4281</th>\n",
              "      <td>4281</td>\n",
              "      <td>10</td>\n",
              "      <td>B</td>\n",
              "      <td>72</td>\n",
              "      <td>2010-12-03</td>\n",
              "      <td>218559.54</td>\n",
              "      <td>False</td>\n",
              "      <td>10.650000</td>\n",
              "      <td>0.803348</td>\n",
              "      <td>9.003</td>\n",
              "    </tr>\n",
              "    <tr>\n",
              "      <th>6202</th>\n",
              "      <td>6202</td>\n",
              "      <td>14</td>\n",
              "      <td>A</td>\n",
              "      <td>92</td>\n",
              "      <td>2010-03-05</td>\n",
              "      <td>214383.07</td>\n",
              "      <td>False</td>\n",
              "      <td>2.850000</td>\n",
              "      <td>0.733606</td>\n",
              "      <td>8.992</td>\n",
              "    </tr>\n",
              "    <tr>\n",
              "      <th>6237</th>\n",
              "      <td>6237</td>\n",
              "      <td>14</td>\n",
              "      <td>A</td>\n",
              "      <td>95</td>\n",
              "      <td>2010-02-05</td>\n",
              "      <td>213042.66</td>\n",
              "      <td>False</td>\n",
              "      <td>-2.605556</td>\n",
              "      <td>0.735455</td>\n",
              "      <td>8.992</td>\n",
              "    </tr>\n",
              "    <tr>\n",
              "      <th>...</th>\n",
              "      <td>...</td>\n",
              "      <td>...</td>\n",
              "      <td>...</td>\n",
              "      <td>...</td>\n",
              "      <td>...</td>\n",
              "      <td>...</td>\n",
              "      <td>...</td>\n",
              "      <td>...</td>\n",
              "      <td>...</td>\n",
              "      <td>...</td>\n",
              "    </tr>\n",
              "    <tr>\n",
              "      <th>517</th>\n",
              "      <td>517</td>\n",
              "      <td>1</td>\n",
              "      <td>A</td>\n",
              "      <td>47</td>\n",
              "      <td>2010-03-12</td>\n",
              "      <td>-698.00</td>\n",
              "      <td>False</td>\n",
              "      <td>14.327778</td>\n",
              "      <td>0.704547</td>\n",
              "      <td>8.106</td>\n",
              "    </tr>\n",
              "    <tr>\n",
              "      <th>4110</th>\n",
              "      <td>4110</td>\n",
              "      <td>10</td>\n",
              "      <td>B</td>\n",
              "      <td>47</td>\n",
              "      <td>2010-03-05</td>\n",
              "      <td>-798.00</td>\n",
              "      <td>False</td>\n",
              "      <td>13.288889</td>\n",
              "      <td>0.760023</td>\n",
              "      <td>9.765</td>\n",
              "    </tr>\n",
              "    <tr>\n",
              "      <th>4115</th>\n",
              "      <td>4115</td>\n",
              "      <td>10</td>\n",
              "      <td>B</td>\n",
              "      <td>47</td>\n",
              "      <td>2010-10-15</td>\n",
              "      <td>-798.00</td>\n",
              "      <td>False</td>\n",
              "      <td>24.155556</td>\n",
              "      <td>0.813650</td>\n",
              "      <td>9.003</td>\n",
              "    </tr>\n",
              "    <tr>\n",
              "      <th>1422</th>\n",
              "      <td>1422</td>\n",
              "      <td>2</td>\n",
              "      <td>A</td>\n",
              "      <td>47</td>\n",
              "      <td>2010-10-15</td>\n",
              "      <td>-1098.00</td>\n",
              "      <td>False</td>\n",
              "      <td>18.777778</td>\n",
              "      <td>0.718548</td>\n",
              "      <td>8.163</td>\n",
              "    </tr>\n",
              "    <tr>\n",
              "      <th>1420</th>\n",
              "      <td>1420</td>\n",
              "      <td>2</td>\n",
              "      <td>A</td>\n",
              "      <td>47</td>\n",
              "      <td>2010-07-30</td>\n",
              "      <td>-1098.00</td>\n",
              "      <td>False</td>\n",
              "      <td>28.605556</td>\n",
              "      <td>0.697415</td>\n",
              "      <td>8.099</td>\n",
              "    </tr>\n",
              "  </tbody>\n",
              "</table>\n",
              "<p>10774 rows × 10 columns</p>\n",
              "</div>"
            ],
            "text/plain": [
              "      Unnamed: 0  store type  ...  temperature_c fuel_price_usd_per_l  unemployment\n",
              "6201        6201     14    A  ...      -2.605556             0.735455         8.992\n",
              "4271        4271     10    B  ...      12.411111             0.782478         9.765\n",
              "4281        4281     10    B  ...      10.650000             0.803348         9.003\n",
              "6202        6202     14    A  ...       2.850000             0.733606         8.992\n",
              "6237        6237     14    A  ...      -2.605556             0.735455         8.992\n",
              "...          ...    ...  ...  ...            ...                  ...           ...\n",
              "517          517      1    A  ...      14.327778             0.704547         8.106\n",
              "4110        4110     10    B  ...      13.288889             0.760023         9.765\n",
              "4115        4115     10    B  ...      24.155556             0.813650         9.003\n",
              "1422        1422      2    A  ...      18.777778             0.718548         8.163\n",
              "1420        1420      2    A  ...      28.605556             0.697415         8.099\n",
              "\n",
              "[10774 rows x 10 columns]"
            ]
          },
          "metadata": {
            "tags": []
          },
          "execution_count": 17
        }
      ]
    },
    {
      "cell_type": "code",
      "metadata": {
        "colab": {
          "base_uri": "https://localhost:8080/",
          "height": 415
        },
        "id": "H__M9Htn_43z",
        "outputId": "b0bcc56a-123e-4af7-d68f-adb92856052d"
      },
      "source": [
        "df.sort_values(['weekly_sales'])  #ascending=True by default"
      ],
      "execution_count": null,
      "outputs": [
        {
          "output_type": "execute_result",
          "data": {
            "text/html": [
              "<div>\n",
              "<style scoped>\n",
              "    .dataframe tbody tr th:only-of-type {\n",
              "        vertical-align: middle;\n",
              "    }\n",
              "\n",
              "    .dataframe tbody tr th {\n",
              "        vertical-align: top;\n",
              "    }\n",
              "\n",
              "    .dataframe thead th {\n",
              "        text-align: right;\n",
              "    }\n",
              "</style>\n",
              "<table border=\"1\" class=\"dataframe\">\n",
              "  <thead>\n",
              "    <tr style=\"text-align: right;\">\n",
              "      <th></th>\n",
              "      <th>Unnamed: 0</th>\n",
              "      <th>store</th>\n",
              "      <th>type</th>\n",
              "      <th>department</th>\n",
              "      <th>date</th>\n",
              "      <th>weekly_sales</th>\n",
              "      <th>is_holiday</th>\n",
              "      <th>temperature_c</th>\n",
              "      <th>fuel_price_usd_per_l</th>\n",
              "      <th>unemployment</th>\n",
              "    </tr>\n",
              "  </thead>\n",
              "  <tbody>\n",
              "    <tr>\n",
              "      <th>1420</th>\n",
              "      <td>1420</td>\n",
              "      <td>2</td>\n",
              "      <td>A</td>\n",
              "      <td>47</td>\n",
              "      <td>2010-07-30</td>\n",
              "      <td>-1098.00</td>\n",
              "      <td>False</td>\n",
              "      <td>28.605556</td>\n",
              "      <td>0.697415</td>\n",
              "      <td>8.099</td>\n",
              "    </tr>\n",
              "    <tr>\n",
              "      <th>1422</th>\n",
              "      <td>1422</td>\n",
              "      <td>2</td>\n",
              "      <td>A</td>\n",
              "      <td>47</td>\n",
              "      <td>2010-10-15</td>\n",
              "      <td>-1098.00</td>\n",
              "      <td>False</td>\n",
              "      <td>18.777778</td>\n",
              "      <td>0.718548</td>\n",
              "      <td>8.163</td>\n",
              "    </tr>\n",
              "    <tr>\n",
              "      <th>4115</th>\n",
              "      <td>4115</td>\n",
              "      <td>10</td>\n",
              "      <td>B</td>\n",
              "      <td>47</td>\n",
              "      <td>2010-10-15</td>\n",
              "      <td>-798.00</td>\n",
              "      <td>False</td>\n",
              "      <td>24.155556</td>\n",
              "      <td>0.813650</td>\n",
              "      <td>9.003</td>\n",
              "    </tr>\n",
              "    <tr>\n",
              "      <th>4110</th>\n",
              "      <td>4110</td>\n",
              "      <td>10</td>\n",
              "      <td>B</td>\n",
              "      <td>47</td>\n",
              "      <td>2010-03-05</td>\n",
              "      <td>-798.00</td>\n",
              "      <td>False</td>\n",
              "      <td>13.288889</td>\n",
              "      <td>0.760023</td>\n",
              "      <td>9.765</td>\n",
              "    </tr>\n",
              "    <tr>\n",
              "      <th>517</th>\n",
              "      <td>517</td>\n",
              "      <td>1</td>\n",
              "      <td>A</td>\n",
              "      <td>47</td>\n",
              "      <td>2010-03-12</td>\n",
              "      <td>-698.00</td>\n",
              "      <td>False</td>\n",
              "      <td>14.327778</td>\n",
              "      <td>0.704547</td>\n",
              "      <td>8.106</td>\n",
              "    </tr>\n",
              "    <tr>\n",
              "      <th>...</th>\n",
              "      <td>...</td>\n",
              "      <td>...</td>\n",
              "      <td>...</td>\n",
              "      <td>...</td>\n",
              "      <td>...</td>\n",
              "      <td>...</td>\n",
              "      <td>...</td>\n",
              "      <td>...</td>\n",
              "      <td>...</td>\n",
              "      <td>...</td>\n",
              "    </tr>\n",
              "    <tr>\n",
              "      <th>6237</th>\n",
              "      <td>6237</td>\n",
              "      <td>14</td>\n",
              "      <td>A</td>\n",
              "      <td>95</td>\n",
              "      <td>2010-02-05</td>\n",
              "      <td>213042.66</td>\n",
              "      <td>False</td>\n",
              "      <td>-2.605556</td>\n",
              "      <td>0.735455</td>\n",
              "      <td>8.992</td>\n",
              "    </tr>\n",
              "    <tr>\n",
              "      <th>6202</th>\n",
              "      <td>6202</td>\n",
              "      <td>14</td>\n",
              "      <td>A</td>\n",
              "      <td>92</td>\n",
              "      <td>2010-03-05</td>\n",
              "      <td>214383.07</td>\n",
              "      <td>False</td>\n",
              "      <td>2.850000</td>\n",
              "      <td>0.733606</td>\n",
              "      <td>8.992</td>\n",
              "    </tr>\n",
              "    <tr>\n",
              "      <th>4281</th>\n",
              "      <td>4281</td>\n",
              "      <td>10</td>\n",
              "      <td>B</td>\n",
              "      <td>72</td>\n",
              "      <td>2010-12-03</td>\n",
              "      <td>218559.54</td>\n",
              "      <td>False</td>\n",
              "      <td>10.650000</td>\n",
              "      <td>0.803348</td>\n",
              "      <td>9.003</td>\n",
              "    </tr>\n",
              "    <tr>\n",
              "      <th>4271</th>\n",
              "      <td>4271</td>\n",
              "      <td>10</td>\n",
              "      <td>B</td>\n",
              "      <td>72</td>\n",
              "      <td>2010-02-05</td>\n",
              "      <td>232558.51</td>\n",
              "      <td>False</td>\n",
              "      <td>12.411111</td>\n",
              "      <td>0.782478</td>\n",
              "      <td>9.765</td>\n",
              "    </tr>\n",
              "    <tr>\n",
              "      <th>6201</th>\n",
              "      <td>6201</td>\n",
              "      <td>14</td>\n",
              "      <td>A</td>\n",
              "      <td>92</td>\n",
              "      <td>2010-02-05</td>\n",
              "      <td>293966.05</td>\n",
              "      <td>False</td>\n",
              "      <td>-2.605556</td>\n",
              "      <td>0.735455</td>\n",
              "      <td>8.992</td>\n",
              "    </tr>\n",
              "  </tbody>\n",
              "</table>\n",
              "<p>10774 rows × 10 columns</p>\n",
              "</div>"
            ],
            "text/plain": [
              "      Unnamed: 0  store type  ...  temperature_c fuel_price_usd_per_l  unemployment\n",
              "1420        1420      2    A  ...      28.605556             0.697415         8.099\n",
              "1422        1422      2    A  ...      18.777778             0.718548         8.163\n",
              "4115        4115     10    B  ...      24.155556             0.813650         9.003\n",
              "4110        4110     10    B  ...      13.288889             0.760023         9.765\n",
              "517          517      1    A  ...      14.327778             0.704547         8.106\n",
              "...          ...    ...  ...  ...            ...                  ...           ...\n",
              "6237        6237     14    A  ...      -2.605556             0.735455         8.992\n",
              "6202        6202     14    A  ...       2.850000             0.733606         8.992\n",
              "4281        4281     10    B  ...      10.650000             0.803348         9.003\n",
              "4271        4271     10    B  ...      12.411111             0.782478         9.765\n",
              "6201        6201     14    A  ...      -2.605556             0.735455         8.992\n",
              "\n",
              "[10774 rows x 10 columns]"
            ]
          },
          "metadata": {
            "tags": []
          },
          "execution_count": 10
        }
      ]
    },
    {
      "cell_type": "code",
      "metadata": {
        "colab": {
          "base_uri": "https://localhost:8080/"
        },
        "id": "XiGhMwf3AaBo",
        "outputId": "39a3e368-20b2-4c14-f266-42ad9f035dad"
      },
      "source": [
        "# what are the top weekly sales?\n",
        "\n",
        "#select only the column that you need\n",
        "weekly_sales = df['weekly_sales']\n",
        "weekly_sales.head()"
      ],
      "execution_count": null,
      "outputs": [
        {
          "output_type": "execute_result",
          "data": {
            "text/plain": [
              "0    24924.50\n",
              "1    21827.90\n",
              "2    57258.43\n",
              "3    17413.94\n",
              "4    17558.09\n",
              "Name: weekly_sales, dtype: float64"
            ]
          },
          "metadata": {
            "tags": []
          },
          "execution_count": 27
        }
      ]
    },
    {
      "cell_type": "code",
      "metadata": {
        "colab": {
          "base_uri": "https://localhost:8080/"
        },
        "id": "_g5nwu7zRdxi",
        "outputId": "277f345b-57be-4e16-fa3c-8849a38e6e25"
      },
      "source": [
        "# how many weeks the sales were negative\n",
        "neg_weekly_sales = df[df['weekly_sales'] < 0]\n",
        "print(neg_weekly_sales['weekly_sales'].count())"
      ],
      "execution_count": null,
      "outputs": [
        {
          "output_type": "stream",
          "text": [
            "108\n"
          ],
          "name": "stdout"
        }
      ]
    },
    {
      "cell_type": "code",
      "metadata": {
        "colab": {
          "base_uri": "https://localhost:8080/"
        },
        "id": "pdzLr2RkSMxp",
        "outputId": "03ead901-8813-40d6-87a0-47e354ce2770"
      },
      "source": [
        "print(neg_weekly_sales['weekly_sales'].count())"
      ],
      "execution_count": null,
      "outputs": [
        {
          "output_type": "stream",
          "text": [
            "108\n"
          ],
          "name": "stdout"
        }
      ]
    },
    {
      "cell_type": "markdown",
      "metadata": {
        "id": "BXnbAGWC96i5"
      },
      "source": [
        "Use relational operators to find subsets that match a certain criteria. Use logial operators to combine multiple conditions."
      ]
    },
    {
      "cell_type": "code",
      "metadata": {
        "colab": {
          "base_uri": "https://localhost:8080/",
          "height": 141
        },
        "id": "NhLoJ18yTOxK",
        "outputId": "29b8a248-a9e9-4b4d-b9f0-455b21f95037"
      },
      "source": [
        "# on how many holidays the weekly sales were negative?\n",
        "\n",
        "df[(df['weekly_sales'] < 0) & (df['is_holiday'] == True)]\n",
        "\n"
      ],
      "execution_count": null,
      "outputs": [
        {
          "output_type": "execute_result",
          "data": {
            "text/html": [
              "<div>\n",
              "<style scoped>\n",
              "    .dataframe tbody tr th:only-of-type {\n",
              "        vertical-align: middle;\n",
              "    }\n",
              "\n",
              "    .dataframe tbody tr th {\n",
              "        vertical-align: top;\n",
              "    }\n",
              "\n",
              "    .dataframe thead th {\n",
              "        text-align: right;\n",
              "    }\n",
              "</style>\n",
              "<table border=\"1\" class=\"dataframe\">\n",
              "  <thead>\n",
              "    <tr style=\"text-align: right;\">\n",
              "      <th></th>\n",
              "      <th>Unnamed: 0</th>\n",
              "      <th>store</th>\n",
              "      <th>type</th>\n",
              "      <th>department</th>\n",
              "      <th>date</th>\n",
              "      <th>weekly_sales</th>\n",
              "      <th>is_holiday</th>\n",
              "      <th>temperature_c</th>\n",
              "      <th>fuel_price_usd_per_l</th>\n",
              "      <th>unemployment</th>\n",
              "    </tr>\n",
              "  </thead>\n",
              "  <tbody>\n",
              "    <tr>\n",
              "      <th>6810</th>\n",
              "      <td>6810</td>\n",
              "      <td>19</td>\n",
              "      <td>A</td>\n",
              "      <td>47</td>\n",
              "      <td>2010-12-31</td>\n",
              "      <td>-449.00</td>\n",
              "      <td>True</td>\n",
              "      <td>-1.861111</td>\n",
              "      <td>0.881278</td>\n",
              "      <td>8.067</td>\n",
              "    </tr>\n",
              "    <tr>\n",
              "      <th>7718</th>\n",
              "      <td>7718</td>\n",
              "      <td>20</td>\n",
              "      <td>A</td>\n",
              "      <td>47</td>\n",
              "      <td>2010-09-10</td>\n",
              "      <td>-598.00</td>\n",
              "      <td>True</td>\n",
              "      <td>18.344444</td>\n",
              "      <td>0.713001</td>\n",
              "      <td>7.527</td>\n",
              "    </tr>\n",
              "    <tr>\n",
              "      <th>8072</th>\n",
              "      <td>8072</td>\n",
              "      <td>20</td>\n",
              "      <td>A</td>\n",
              "      <td>96</td>\n",
              "      <td>2012-09-07</td>\n",
              "      <td>-8.97</td>\n",
              "      <td>True</td>\n",
              "      <td>24.644444</td>\n",
              "      <td>1.033177</td>\n",
              "      <td>7.280</td>\n",
              "    </tr>\n",
              "  </tbody>\n",
              "</table>\n",
              "</div>"
            ],
            "text/plain": [
              "      Unnamed: 0  store type  ...  temperature_c fuel_price_usd_per_l  unemployment\n",
              "6810        6810     19    A  ...      -1.861111             0.881278         8.067\n",
              "7718        7718     20    A  ...      18.344444             0.713001         7.527\n",
              "8072        8072     20    A  ...      24.644444             1.033177         7.280\n",
              "\n",
              "[3 rows x 10 columns]"
            ]
          },
          "metadata": {
            "tags": []
          },
          "execution_count": 11
        }
      ]
    },
    {
      "cell_type": "markdown",
      "metadata": {
        "id": "qqxNmVHA-ZYV"
      },
      "source": [
        "Subset rows with categorical variables.\n",
        "Use the \n",
        "``` .isin() ``` \n",
        "to select rows with a speciried value(s).\n"
      ]
    },
    {
      "cell_type": "code",
      "metadata": {
        "colab": {
          "base_uri": "https://localhost:8080/"
        },
        "id": "XZ3nrxf4Twxv",
        "outputId": "a6a92574-5bdf-4182-c06c-b3b69651c3e0"
      },
      "source": [
        "import seaborn as sns\n",
        "tips_df = sns.load_dataset('tips')\n",
        "tips_df.info()"
      ],
      "execution_count": null,
      "outputs": [
        {
          "output_type": "stream",
          "text": [
            "<class 'pandas.core.frame.DataFrame'>\n",
            "RangeIndex: 244 entries, 0 to 243\n",
            "Data columns (total 7 columns):\n",
            " #   Column      Non-Null Count  Dtype   \n",
            "---  ------      --------------  -----   \n",
            " 0   total_bill  244 non-null    float64 \n",
            " 1   tip         244 non-null    float64 \n",
            " 2   sex         244 non-null    category\n",
            " 3   smoker      244 non-null    category\n",
            " 4   day         244 non-null    category\n",
            " 5   time        244 non-null    category\n",
            " 6   size        244 non-null    int64   \n",
            "dtypes: category(4), float64(2), int64(1)\n",
            "memory usage: 7.3 KB\n"
          ],
          "name": "stdout"
        }
      ]
    },
    {
      "cell_type": "code",
      "metadata": {
        "colab": {
          "base_uri": "https://localhost:8080/"
        },
        "id": "unq8R6G-UESr",
        "outputId": "a93a9156-0071-4512-8b1e-0aee8ff85050"
      },
      "source": [
        "titanic['day']"
      ],
      "execution_count": null,
      "outputs": [
        {
          "output_type": "execute_result",
          "data": {
            "text/plain": [
              "0       Sun\n",
              "1       Sun\n",
              "2       Sun\n",
              "3       Sun\n",
              "4       Sun\n",
              "       ... \n",
              "239     Sat\n",
              "240     Sat\n",
              "241     Sat\n",
              "242     Sat\n",
              "243    Thur\n",
              "Name: day, Length: 244, dtype: category\n",
              "Categories (4, object): ['Thur', 'Fri', 'Sat', 'Sun']"
            ]
          },
          "metadata": {
            "tags": []
          },
          "execution_count": 8
        }
      ]
    },
    {
      "cell_type": "code",
      "metadata": {
        "colab": {
          "base_uri": "https://localhost:8080/",
          "height": 415
        },
        "id": "xwFyPu4WUKw5",
        "outputId": "f70e8478-6900-4ba7-a962-9caac0caa78d"
      },
      "source": [
        "weekday =['Thur']\n",
        "condition = tips_df['day'].isin(weekday)\n",
        "tips_df[condition]"
      ],
      "execution_count": null,
      "outputs": [
        {
          "output_type": "execute_result",
          "data": {
            "text/html": [
              "<div>\n",
              "<style scoped>\n",
              "    .dataframe tbody tr th:only-of-type {\n",
              "        vertical-align: middle;\n",
              "    }\n",
              "\n",
              "    .dataframe tbody tr th {\n",
              "        vertical-align: top;\n",
              "    }\n",
              "\n",
              "    .dataframe thead th {\n",
              "        text-align: right;\n",
              "    }\n",
              "</style>\n",
              "<table border=\"1\" class=\"dataframe\">\n",
              "  <thead>\n",
              "    <tr style=\"text-align: right;\">\n",
              "      <th></th>\n",
              "      <th>total_bill</th>\n",
              "      <th>tip</th>\n",
              "      <th>sex</th>\n",
              "      <th>smoker</th>\n",
              "      <th>day</th>\n",
              "      <th>time</th>\n",
              "      <th>size</th>\n",
              "    </tr>\n",
              "  </thead>\n",
              "  <tbody>\n",
              "    <tr>\n",
              "      <th>77</th>\n",
              "      <td>27.20</td>\n",
              "      <td>4.00</td>\n",
              "      <td>Male</td>\n",
              "      <td>No</td>\n",
              "      <td>Thur</td>\n",
              "      <td>Lunch</td>\n",
              "      <td>4</td>\n",
              "    </tr>\n",
              "    <tr>\n",
              "      <th>78</th>\n",
              "      <td>22.76</td>\n",
              "      <td>3.00</td>\n",
              "      <td>Male</td>\n",
              "      <td>No</td>\n",
              "      <td>Thur</td>\n",
              "      <td>Lunch</td>\n",
              "      <td>2</td>\n",
              "    </tr>\n",
              "    <tr>\n",
              "      <th>79</th>\n",
              "      <td>17.29</td>\n",
              "      <td>2.71</td>\n",
              "      <td>Male</td>\n",
              "      <td>No</td>\n",
              "      <td>Thur</td>\n",
              "      <td>Lunch</td>\n",
              "      <td>2</td>\n",
              "    </tr>\n",
              "    <tr>\n",
              "      <th>80</th>\n",
              "      <td>19.44</td>\n",
              "      <td>3.00</td>\n",
              "      <td>Male</td>\n",
              "      <td>Yes</td>\n",
              "      <td>Thur</td>\n",
              "      <td>Lunch</td>\n",
              "      <td>2</td>\n",
              "    </tr>\n",
              "    <tr>\n",
              "      <th>81</th>\n",
              "      <td>16.66</td>\n",
              "      <td>3.40</td>\n",
              "      <td>Male</td>\n",
              "      <td>No</td>\n",
              "      <td>Thur</td>\n",
              "      <td>Lunch</td>\n",
              "      <td>2</td>\n",
              "    </tr>\n",
              "    <tr>\n",
              "      <th>...</th>\n",
              "      <td>...</td>\n",
              "      <td>...</td>\n",
              "      <td>...</td>\n",
              "      <td>...</td>\n",
              "      <td>...</td>\n",
              "      <td>...</td>\n",
              "      <td>...</td>\n",
              "    </tr>\n",
              "    <tr>\n",
              "      <th>202</th>\n",
              "      <td>13.00</td>\n",
              "      <td>2.00</td>\n",
              "      <td>Female</td>\n",
              "      <td>Yes</td>\n",
              "      <td>Thur</td>\n",
              "      <td>Lunch</td>\n",
              "      <td>2</td>\n",
              "    </tr>\n",
              "    <tr>\n",
              "      <th>203</th>\n",
              "      <td>16.40</td>\n",
              "      <td>2.50</td>\n",
              "      <td>Female</td>\n",
              "      <td>Yes</td>\n",
              "      <td>Thur</td>\n",
              "      <td>Lunch</td>\n",
              "      <td>2</td>\n",
              "    </tr>\n",
              "    <tr>\n",
              "      <th>204</th>\n",
              "      <td>20.53</td>\n",
              "      <td>4.00</td>\n",
              "      <td>Male</td>\n",
              "      <td>Yes</td>\n",
              "      <td>Thur</td>\n",
              "      <td>Lunch</td>\n",
              "      <td>4</td>\n",
              "    </tr>\n",
              "    <tr>\n",
              "      <th>205</th>\n",
              "      <td>16.47</td>\n",
              "      <td>3.23</td>\n",
              "      <td>Female</td>\n",
              "      <td>Yes</td>\n",
              "      <td>Thur</td>\n",
              "      <td>Lunch</td>\n",
              "      <td>3</td>\n",
              "    </tr>\n",
              "    <tr>\n",
              "      <th>243</th>\n",
              "      <td>18.78</td>\n",
              "      <td>3.00</td>\n",
              "      <td>Female</td>\n",
              "      <td>No</td>\n",
              "      <td>Thur</td>\n",
              "      <td>Dinner</td>\n",
              "      <td>2</td>\n",
              "    </tr>\n",
              "  </tbody>\n",
              "</table>\n",
              "<p>62 rows × 7 columns</p>\n",
              "</div>"
            ],
            "text/plain": [
              "     total_bill   tip     sex smoker   day    time  size\n",
              "77        27.20  4.00    Male     No  Thur   Lunch     4\n",
              "78        22.76  3.00    Male     No  Thur   Lunch     2\n",
              "79        17.29  2.71    Male     No  Thur   Lunch     2\n",
              "80        19.44  3.00    Male    Yes  Thur   Lunch     2\n",
              "81        16.66  3.40    Male     No  Thur   Lunch     2\n",
              "..          ...   ...     ...    ...   ...     ...   ...\n",
              "202       13.00  2.00  Female    Yes  Thur   Lunch     2\n",
              "203       16.40  2.50  Female    Yes  Thur   Lunch     2\n",
              "204       20.53  4.00    Male    Yes  Thur   Lunch     4\n",
              "205       16.47  3.23  Female    Yes  Thur   Lunch     3\n",
              "243       18.78  3.00  Female     No  Thur  Dinner     2\n",
              "\n",
              "[62 rows x 7 columns]"
            ]
          },
          "metadata": {
            "tags": []
          },
          "execution_count": 9
        }
      ]
    }
  ]
}