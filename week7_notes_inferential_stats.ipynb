{
  "nbformat": 4,
  "nbformat_minor": 0,
  "metadata": {
    "colab": {
      "name": "week7_notes_inferential_stats.ipynb",
      "provenance": [],
      "authorship_tag": "ABX9TyOllIWUXObfM6fhU3SD2Tlt",
      "include_colab_link": true
    },
    "kernelspec": {
      "name": "python3",
      "display_name": "Python 3"
    },
    "language_info": {
      "name": "python"
    }
  },
  "cells": [
    {
      "cell_type": "markdown",
      "metadata": {
        "id": "view-in-github",
        "colab_type": "text"
      },
      "source": [
        "<a href=\"https://colab.research.google.com/github/ava11235/it125/blob/main/week7_notes_inferential_stats.ipynb\" target=\"_parent\"><img src=\"https://colab.research.google.com/assets/colab-badge.svg\" alt=\"Open In Colab\"/></a>"
      ]
    },
    {
      "cell_type": "markdown",
      "metadata": {
        "id": "rTpTigehE228"
      },
      "source": [
        "**Reading**\n",
        "\n",
        "zyBooks Ch 5.1 - 5.9\n",
        "\n",
        "**Hypothesis Testing** *\n",
        "\n",
        "Hypothesis testing is used to answer a question about a process or the world by testing two hypotheses, a null and an alternative. Usually the null hypothesis makes a statement that “the world/process works this way”, and the alternative hypothesis says “the world/process does not work that way”.\n",
        "\n",
        "Example\n",
        "Null:\n",
        "\n",
        "“The customer was not cheating - his chances of winning and losing were like random tosses of a fair coin-50% chance of winning, 50% of losing. Any variation from what we expect is due to chance variation.”\n",
        "\n",
        "Alternative: \n",
        "\n",
        "“The customer was cheating-his chances of winning were something other than 50%”.\n",
        "\n",
        "Pro tip:\n",
        "\n",
        "You must be very precise about chances in your hypotheses. Hypotheses such as “the customer cheated” or “Their chances of winning were normal” are vague and might be considered incorrect, because you don’t state the exact chances associated with the events.\n",
        "\n",
        "Pro tip: \n",
        "\n",
        "Null hypothesis should also explain differences in the data. For example, if your hypothesis stated that the coin was fair, then why did you get 70 heads out of 100 flips? Since it’s possible to get that many (though not expected), your null hypothesis should also contain a statement along the lines of “Any difference in outcome from what we expect is due to chance variation”.\n",
        "\n",
        "**P-value**\n",
        "\n",
        "is the chance, under the null hypothesis, of getting a test statistic equal to the observed test statistic or more extreme in the direction of the alternative. In other words, we want to see if the observed test statistic is likely to come from the null distribution. If the observed test statistic is inconsistent (i.e.looks nothing like the others) with the rest of the test statistics generated under the null, then it starts to look like the null hypothesisis not true.\n",
        "\n",
        "\n",
        "**Confidence Intervals**\n",
        "\n",
        "To provide an interval of estimates for a population parameter. For example, let’s say we wanted to estimate the median annual household income in the United States. We collect a large random sample from the population. However, the median of our sample isn’t a good estimate by itself. Due to random chance, our sample could have come out differently, and then the sample median would have been different. Thus, we need to take many samples, and provide an interval of estimates from the sample medians. However, we do not have the resources to physically take more samples, so we bootstrap (or “resample”) from our original sample.\n",
        "\n",
        "**Testing Hypotheses Using Confidence Intervals**\n",
        "\n",
        "For certain types of hypothesis tests, it’s easier and more beneficial to make a conclusion about the hypotheses with a confidence interval. If your hypotheses are something like: \n",
        "\n",
        "Null:\n",
        "\n",
        "“The population parameter is some number X” and Alternative:“The population parameter is not that number X”, then you can construct a confidence interval to answer this question. \n",
        "\n",
        "Examples:\n",
        "\n",
        "Null: The true slope of the regression line between X and Y is 0.\n",
        "\n",
        "Alternative:The true slope of the regression line between X and Y is not 0.\n",
        "\n",
        "Pro tip:\n",
        "\n",
        " In order to use this method, the hypotheses must be in the format of “this parameter is this number x”. A hypothesis test about whether a coin was fair does not work for this format, because there is no number to construct a confidence interval around.\n",
        " \n",
        "If a 95% confidence interval does not contain the number in question, that’s like a p-value being less than a 0.05 cutoff value.\n",
        "\n",
        "\n",
        "Likewise, a 99% confidence interval that does not contain the number in question is like a p-value being less than a 0.01 cutoff value.\n",
        "\n",
        "*Adapted from Data 8 \n",
        "\n",
        "\n",
        "**Reference**\n",
        "\n",
        "https://docs.scipy.org/doc/scipy-0.14.0/reference/generated/scipy.stats.norm.html#scipy.stats.norm\n",
        "\n",
        "https://www.statsmodels.org/stable/generated/statsmodels.stats.weightstats.ztest.html\n",
        "\n",
        "https://docs.scipy.org/doc/scipy/reference/generated/scipy.stats.f_oneway.html\n",
        "\n",
        "\n",
        "**Practice**\n",
        "\n",
        "zyBooks Ch 5.1 - 5.9 Participation and Challenge Activities\n",
        "\n",
        "**Learning Outcomes**\n",
        "\n",
        "Upon successful completion of the material, students will be able to:\n",
        "* Find the margin of error based on values above and below the point estimate.\n",
        "\n",
        "* Use Python functions to calculate confidence intervals for population means and proportions.\n",
        "\n",
        "* Use Python functions for hypothesis testing for population means and proportions.* Analyze problems with the use of hypothesis testing.\n",
        "* Use Python functions to calculate one-way ANOVA test to determine if a statistically significant difference exists amongst the means of 3 or more populations.\n",
        "\n"
      ]
    },
    {
      "cell_type": "code",
      "metadata": {
        "colab": {
          "base_uri": "https://localhost:8080/"
        },
        "id": "9k0chf-VoIQf",
        "outputId": "d9d1ed96-0e9b-4f09-9ee5-c14b8ff9a6f7"
      },
      "source": [
        "# The norm.interval() function is used to find a confidence interval for a normal distribution\n",
        "import pandas as pd\n",
        "import scipy.stats as st\n",
        "import math\n",
        "\n",
        "scores = pd.read_csv('http://data-analytics.zybooks.com/ExamScores.csv')\n",
        "sigma = 2.5\n",
        "mean = scores['Exam1'].mean()\n",
        "stderr = sigma/math.sqrt(len(scores['Exam1']))\n",
        "print(st.norm.interval(0.99, mean, stderr))"
      ],
      "execution_count": 6,
      "outputs": [
        {
          "output_type": "stream",
          "text": [
            "(81.78930681614078, 83.61069318385923)\n"
          ],
          "name": "stdout"
        }
      ]
    },
    {
      "cell_type": "code",
      "metadata": {
        "colab": {
          "base_uri": "https://localhost:8080/"
        },
        "id": "fh87ABfwpuSd",
        "outputId": "bc91317f-553c-41b5-a4de-70d1cf90fcf3"
      },
      "source": [
        "# t.interval() function is used to find a confidence interval for a variable with a  t-distribution.\n",
        "\n",
        "import pandas as pd\n",
        "import scipy.stats as st\n",
        "scores = pd.read_csv('http://data-analytics.zybooks.com/ExamScores.csv')\n",
        "\n",
        "# Let n be the number of students who took Exam 1.\n",
        "n = scores[['Exam1']].count()\n",
        "\n",
        "# Degrees of freedom is number of samples minus 1\n",
        "df = n - 1\n",
        "\n",
        "# The mean of Exam1 scores are obtained\n",
        "mean = scores[['Exam1']].mean()\n",
        "\n",
        "# The standard error is standard deviation/sqrt(number of samples)\n",
        "stdev = scores[['Exam1']].std()\n",
        "stderr = stdev/(n ** 0.5)\n",
        "\n",
        "print(st.t.interval(0.95, df, mean, stderr))"
      ],
      "execution_count": 7,
      "outputs": [
        {
          "output_type": "stream",
          "text": [
            "(array([80.05931209]), array([85.34068791]))\n"
          ],
          "name": "stdout"
        }
      ]
    },
    {
      "cell_type": "code",
      "metadata": {
        "colab": {
          "base_uri": "https://localhost:8080/"
        },
        "id": "7wVflTJsqajm",
        "outputId": "31cbabb0-e5a3-4ca8-9a2b-59c13a2602b5"
      },
      "source": [
        "# The norm.interval() function can also be used to find the confidence interval for population proportion.\n",
        "\n",
        "# In a survey of 1200 randomly selected registered voters, \n",
        "# 348 were in favor of banning public smoking. Find the 95% \n",
        "# conﬁdence interval for the proportion of voters in favor \n",
        "# of banning public smoking.\n",
        "\n",
        "import scipy.stats as st\n",
        "\n",
        "# Let n be the number of voters surveyed.\n",
        "n = 1200\n",
        "\n",
        "# Let p be the proportion of voters that voted in favor\n",
        "p = 348.0/1200.0\n",
        "\n",
        "# The standard error is sqrt(p * (1-p)/n)\n",
        "stderr = (p * (1 - p)/n) ** 0.5\n",
        "\n",
        "print(st.norm.interval(0.95, p, stderr))\n"
      ],
      "execution_count": 8,
      "outputs": [
        {
          "output_type": "stream",
          "text": [
            "(0.26432646675431226, 0.3156735332456877)\n"
          ],
          "name": "stdout"
        }
      ]
    },
    {
      "cell_type": "code",
      "metadata": {
        "colab": {
          "base_uri": "https://localhost:8080/"
        },
        "id": "5aj7Ipswq3Vs",
        "outputId": "f69cc79b-0acf-4d02-b8a6-4e7f60bfa14c"
      },
      "source": [
        "# A confidence interval can also be calculated from raw data. \n",
        "\n",
        "# In the Exam Scores data set, find a 99% confidence interval\n",
        "# for the proportion of students who scores more than 90 in Exam 1.\n",
        "\n",
        "import pandas as pd\n",
        "import scipy.stats as st\n",
        "scores = pd.read_csv('http://data-analytics.zybooks.com/ExamScores.csv')\n",
        "\n",
        "# Let n be the number of students who took Exam 1.\n",
        "n = scores[['Exam1']].count()\n",
        "\n",
        "# Let x be the total of all Exam 1 scores greater than 90\n",
        "x = (scores[['Exam1']] > 90).values.sum()\n",
        "\n",
        "# Let p be x/n, the proportion of all students that scored over 90 on Exam 1\n",
        "# Multiplying by 1.0 is needed for correct floating point arithmetic\n",
        "p = x/n*1.0\n",
        "\n",
        "# The standard error is sqrt(p * (1-p)/n)\n",
        "stderr = (p * (1 - p)/n) ** 0.5\n",
        "\n",
        "print(st.norm.interval(0.99, p, stderr))"
      ],
      "execution_count": 9,
      "outputs": [
        {
          "output_type": "stream",
          "text": [
            "(array([0.02645375]), array([0.29354625]))\n"
          ],
          "name": "stdout"
        }
      ]
    },
    {
      "cell_type": "code",
      "metadata": {
        "colab": {
          "base_uri": "https://localhost:8080/"
        },
        "id": "cKgdAOAvrb5Z",
        "outputId": "ad2f0329-01ff-4f76-abd2-fce2891d6621"
      },
      "source": [
        "#test for mean based on normal distribution, one or two samples\n",
        "#In the case of two samples, the samples are assumed to be independent.\n",
        "\n",
        "from statsmodels.stats.weightstats import ztest\n",
        "import pandas as pd\n",
        "scores = pd.read_csv('http://data-analytics.zybooks.com/ExamScores.csv')\n",
        "print(ztest(x1 = scores['Exam1'],  value = 86))"
      ],
      "execution_count": 11,
      "outputs": [
        {
          "output_type": "stream",
          "text": [
            "(-2.5113146627890988, 0.012028242796839027)\n"
          ],
          "name": "stdout"
        }
      ]
    },
    {
      "cell_type": "code",
      "metadata": {
        "colab": {
          "base_uri": "https://localhost:8080/"
        },
        "id": "K5db1gRPscyK",
        "outputId": "7a2124d9-3630-4e5f-a1a8-313121fd71f1"
      },
      "source": [
        "# The proportions_ztest(count, nobs, value, prop_var = value) function is used to perform a one-sample -test for proportions.\n",
        "\n",
        "#Test for proportions based on normal (z) test\n",
        "from statsmodels.stats.proportion import proportions_ztest\n",
        "counts = 31\n",
        "nobs = 50\n",
        "value = 0.50\n",
        "print(proportions_ztest(counts, nobs, value, prop_var = value))"
      ],
      "execution_count": 12,
      "outputs": [
        {
          "output_type": "stream",
          "text": [
            "(1.697056274847714, 0.08968602177036457)\n"
          ],
          "name": "stdout"
        }
      ]
    },
    {
      "cell_type": "code",
      "metadata": {
        "colab": {
          "base_uri": "https://localhost:8080/"
        },
        "id": "HONSyd1XtDky",
        "outputId": "7de8e4f4-0894-4739-cf87-e92ca9643b74"
      },
      "source": [
        "# A one-way ANOVA compares the means of three or more groups of one predictor variable.\n",
        "# The f_oneway() function performs a one-way ANOVA\n",
        "\n",
        "# The Exam Score dataset includes scores obtained in 4 exams in a class.\n",
        "# Perform a hypothesis test to determine if the mean scores of the exams \n",
        "# are different. Use the 5% level of significance. \n",
        "\n",
        "import pandas as pd\n",
        "import scipy.stats as st\n",
        "scores = pd.read_csv('http://data-analytics.zybooks.com/ExamScores.csv')\n",
        "\n",
        "# Statistics of each exam\n",
        "exam1_score = scores[['Exam1']]\n",
        "exam2_score = scores[['Exam2']] \n",
        "exam3_score = scores[['Exam3']] \n",
        "exam4_score = scores[['Exam4']] \n",
        "\n",
        "print(st.f_oneway(exam1_score, exam2_score, exam3_score, exam4_score))\n"
      ],
      "execution_count": 13,
      "outputs": [
        {
          "output_type": "stream",
          "text": [
            "F_onewayResult(statistic=array([3.85696089]), pvalue=array([0.01034867]))\n"
          ],
          "name": "stdout"
        }
      ]
    }
  ]
}