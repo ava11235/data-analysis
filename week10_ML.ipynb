{
  "nbformat": 4,
  "nbformat_minor": 0,
  "metadata": {
    "colab": {
      "name": "week10_ML.ipynb",
      "provenance": [],
      "authorship_tag": "ABX9TyPAUr3lO7Wuq3KLKUpWFJKT",
      "include_colab_link": true
    },
    "kernelspec": {
      "name": "python3",
      "display_name": "Python 3"
    },
    "language_info": {
      "name": "python"
    }
  },
  "cells": [
    {
      "cell_type": "markdown",
      "metadata": {
        "id": "view-in-github",
        "colab_type": "text"
      },
      "source": [
        "<a href=\"https://colab.research.google.com/github/ava11235/it125/blob/main/week10_ML.ipynb\" target=\"_parent\"><img src=\"https://colab.research.google.com/assets/colab-badge.svg\" alt=\"Open In Colab\"/></a>"
      ]
    },
    {
      "cell_type": "markdown",
      "metadata": {
        "id": "rxE6Dj_Ds9uc"
      },
      "source": [
        "# Reading\n",
        "zyBooks Ch 9.11 - 9.11\n",
        "\n",
        "# Machine Learning\n",
        "\n",
        "Machine Learning is  used for finding patterns in data and using them to make inferences or predictions.  ML is useful for problems that require a lot of rules as well as for fluctuating environment, where the ML system needs to adapt to new data.\n",
        "\n",
        "**Examples of ML usage include:**\n",
        "\n",
        "Fraud detection\n",
        "\n",
        "Online dating \n",
        "\n",
        "Voting prediction\n",
        "\n",
        "Spam filters\n",
        "\n",
        "Facial recognition\n",
        "\n",
        "Recommender systems\n",
        "\n",
        "**Some popular ML Python libraries include:**\n",
        "\n",
        "\n",
        "SciPy - built on top of NumPy for statistics, mathematics, and engineering computations. Used by most other ML libraries.\n",
        "\n",
        "scikit-learn - easy-to-use & consistent machine learning API\n",
        "\n",
        "statsmodels - statistical modeling & testing library\n",
        "\n",
        "tensorflow - high-performance machine learning library developed by Google\n",
        "\n",
        "pytorch - deep learning library developed by Facebook\n",
        "\n",
        "keras - high-level API for running deep learning from libraries such as TensorFlow\n",
        "\n",
        "\n",
        "**There are two main types of ML models**: \n",
        "\n",
        "\n",
        "**Supervised learning** includes prediction and classification.\n",
        "Supervised learning models include: K-nearest neighbors,  Logistic regression, Support Vector Machines (SVMs), Decision Trees and Random Forests, and \n",
        "Neural networks.\n",
        " \n",
        "**Unsupervised learning** is used to detect and identify patterns in data rather than for making classifications. \n",
        "Some unsupervised learning methods include: cluster analysis and association rules.\n",
        "\n",
        "Machine learning models require the data to be cleaned before it can be used for data analysis. \n",
        "\n",
        "**Data clenining includes:**\n",
        "\n",
        "Handling of missing values\n",
        "\n",
        "Handling outliers\n",
        "\n",
        "Feature scaling\n",
        "\n",
        "Dimensionality reduction\n",
        "\n",
        "**Training, validation and test sets**\n",
        "\n",
        "Data sets are typically split their data a training set for training the model and a test set for evaluating how the model performs on new data. It is common to use 70% or 80% of dataset for training and hold back 20%-30% for testing. \n",
        "\n",
        "\n",
        "# Nearest Neighbors\n",
        "KNN  is a supervised learning method that uses the k closest observations (aka nearest neighbors) to make a recommendation about an observation. In KNN, K is the number of nearest neighbors. The number of neighbors is the core deciding factor. K is generally an odd number if the number of classes is 2. When K=1, then the algorithm is known as the nearest neighbor algorithm. Suppose P1 is the point, for which label needs to predict. First, you find the k closest point to P1 and then classify points by majority vote of its k neighbors. Each object votes for their class and the class with the most votes is taken as the prediction. For finding closest similar points, you find the distance between points using distance measures such as Euclidean distance. Choosing k depends on the data. A smaller k value results in a detailed model, but it can  overfit. A larger k value reduces noise and yields smoother class boundaries, but can underfit.  A odd value between 1 and 20 is a good starting point. \n",
        "\n",
        "Overfitting refers to a model that does not generalize reliably due to learning too much from the training set.\n",
        "\n",
        "Underfitting refers to a model that has not learned enough, and therefore, the result is low ability to generalize and make reliable predictions.\n",
        "\n",
        "\n",
        "KNN has the following basic steps:\n",
        "\n",
        "\n",
        "Calculate distance\n",
        "\n",
        "Find closest neighbors\n",
        "\n",
        "Vote for labels\n",
        "\n",
        "# Reference\n",
        "\n",
        "https://scikit-learn.org/stable/ \n",
        "\n",
        "https://scikit-learn.org/stable/datasets/index.html\n",
        "\n",
        "https://scikit-learn.org/stable/modules/generated/sklearn.neighbors.KNeighborsClassifier.html\n",
        "\n",
        "https://scikit-learn.org/stable/tutorial/statistical_inference/supervised_learning.html\n",
        "\n",
        "https://www.geeksforgeeks.org/numpy-meshgrid-function/\n",
        "\n",
        "https://www.geeksforgeeks.org/numpy-ravel-python/\n",
        "\n",
        "https://www.geeksforgeeks.org/matplotlib-pyplot-pcolormesh-in-python/\n",
        "\n",
        "\n",
        "# Practice\n",
        "zyBooks Ch 9.1 - 9.11 Participation Activities\n",
        "\n",
        "# Learning Outcomes\n",
        "\n",
        "Upon successful completion of the material, students will be able to:\n",
        "* Identify machine learning models and their use\n",
        "* Work with the sci-kit learn library\n",
        "* Identify and apply data cleaning steps\n",
        "* Apply KNN to claissify data\n",
        "\n"
      ]
    },
    {
      "cell_type": "markdown",
      "metadata": {
        "id": "9UNsiG5Fotai"
      },
      "source": [
        "# Example\n",
        "\n",
        "Classify a flower is an Iris Setosa, Iris Versicolour or another type of flower based on its sepal length and width.\n",
        "\n",
        "\n",
        "Dataset: The Iris flower dataset\n",
        "\n",
        "https://en.wikipedia.org/wiki/Iris_flower_data_set\n",
        "\n",
        "\n",
        "https://scikit-learn.org/stable/auto_examples/datasets/plot_iris_dataset.html\n",
        "\n",
        "\n",
        "Each plant has these features: sepal length, sepal width, petal length and petal width. \n",
        "\n",
        "The type of plant (species) is classified in one of these classes:\n",
        "\n",
        "\n",
        "Iris Setosa (0)\n",
        "\n",
        "Iris Versicolour (1)\n",
        "\n",
        "Iris Virginica (2)\n",
        "\n",
        "\n",
        "Use the K-nearest-neighbor algorithm to classify the iris flowers.\n",
        "\n",
        "\n"
      ]
    },
    {
      "cell_type": "code",
      "metadata": {
        "colab": {
          "base_uri": "https://localhost:8080/",
          "height": 535
        },
        "id": "4ANRG2Z8jHq6",
        "outputId": "fe529843-16f7-415b-df67-c8016ebe649d"
      },
      "source": [
        "import matplotlib\n",
        "import numpy as np\n",
        "import matplotlib.pyplot as plt\n",
        "from matplotlib.colors import ListedColormap\n",
        "from sklearn import neighbors, datasets\n",
        "\n",
        "#Load the data\n",
        "\n",
        "iris = datasets.load_iris()\n",
        "print(iris.feature_names) # ['sepal length (cm)', 'sepal width (cm)', 'petal length (cm)', 'petal width (cm)']\n",
        "\n",
        "print(iris.target) # integers representing the different species. Here 0 = setos, 1 = versicolor and 2 = virginica.\n",
        "print(iris.target_names) # 0 = setos, 1 = versicolor and 2 = virginica.\n",
        "print(iris.data.shape)\n",
        "\n",
        "#Use the first two features (sepal length, sepal width)\n",
        "#X contains the first two features, being the rows sepal length and sepal width. The Y list contains the classes for the features.\n",
        "X = iris.data[:, :2]  \n",
        "y = iris.target\n",
        "\n",
        "#print(X)\n",
        "# print(y)\n",
        "\n",
        "# Calculate min, max and limits to normalize\n",
        "\n",
        "x_min, x_max = X[:, 0].min() - .5, X[:, 0].max() + .5\n",
        "y_min, y_max = X[:, 1].min() - .5, X[:, 1].max() + .5\n",
        "\n",
        "plt.figure(2, figsize=(8, 6))\n",
        "\n",
        "#plt.clf()\n",
        "\n",
        "# Plot the result into a color plot\n",
        "plt.scatter(X[:, 0], X[:, 1], c=y, cmap=plt.cm.Set1, edgecolor='k')\n",
        "plt.xlabel(iris.feature_names[0])\n",
        "plt.ylabel(iris.feature_names[1])\n",
        "\n",
        "plt.show()\n",
        "\n",
        "\n"
      ],
      "execution_count": null,
      "outputs": [
        {
          "output_type": "stream",
          "text": [
            "['sepal length (cm)', 'sepal width (cm)', 'petal length (cm)', 'petal width (cm)']\n",
            "[0 0 0 0 0 0 0 0 0 0 0 0 0 0 0 0 0 0 0 0 0 0 0 0 0 0 0 0 0 0 0 0 0 0 0 0 0\n",
            " 0 0 0 0 0 0 0 0 0 0 0 0 0 1 1 1 1 1 1 1 1 1 1 1 1 1 1 1 1 1 1 1 1 1 1 1 1\n",
            " 1 1 1 1 1 1 1 1 1 1 1 1 1 1 1 1 1 1 1 1 1 1 1 1 1 1 2 2 2 2 2 2 2 2 2 2 2\n",
            " 2 2 2 2 2 2 2 2 2 2 2 2 2 2 2 2 2 2 2 2 2 2 2 2 2 2 2 2 2 2 2 2 2 2 2 2 2\n",
            " 2 2]\n",
            "['setosa' 'versicolor' 'virginica']\n",
            "(150, 4)\n"
          ],
          "name": "stdout"
        },
        {
          "output_type": "display_data",
          "data": {
            "image/png": "[encoded data removed]",
            "text/plain": [
              "<Figure size 576x432 with 1 Axes>"
            ]
          },
          "metadata": {
            "tags": [],
            "needs_background": "light"
          }
        }
      ]
    },
    {
      "cell_type": "code",
      "metadata": {
        "colab": {
          "base_uri": "https://localhost:8080/"
        },
        "id": "V0HvgTD2jM1z",
        "outputId": "7b77f453-a37d-43f1-bdf1-51f9a30ca84d"
      },
      "source": [
        "# Classify with k-nearest-neighbor\n",
        "# Create and fit the data with \n",
        "classifier = neighbors.KNeighborsClassifier(7, weights='distance')\n",
        "classifier.fit(X, y)\n"
      ],
      "execution_count": 12,
      "outputs": [
        {
          "output_type": "execute_result",
          "data": {
            "text/plain": [
              "KNeighborsClassifier(algorithm='auto', leaf_size=30, metric='minkowski',\n",
              "                     metric_params=None, n_jobs=None, n_neighbors=7, p=2,\n",
              "                     weights='distance')"
            ]
          },
          "metadata": {
            "tags": []
          },
          "execution_count": 12
        }
      ]
    },
    {
      "cell_type": "code",
      "metadata": {
        "colab": {
          "base_uri": "https://localhost:8080/"
        },
        "id": "h1ODrMVwjSE1",
        "outputId": "abb2ac01-f6f1-43e3-9104-8c96e6250558"
      },
      "source": [
        "# Predict\n",
        "classifier.predict(X)"
      ],
      "execution_count": 13,
      "outputs": [
        {
          "output_type": "execute_result",
          "data": {
            "text/plain": [
              "array([0, 0, 0, 0, 0, 0, 0, 0, 0, 0, 0, 0, 0, 0, 0, 0, 0, 0, 0, 0, 0, 0,\n",
              "       0, 0, 0, 0, 0, 0, 0, 0, 0, 0, 0, 0, 0, 0, 0, 0, 0, 0, 0, 0, 0, 0,\n",
              "       0, 0, 0, 0, 0, 0, 1, 1, 2, 1, 1, 1, 1, 1, 1, 1, 1, 1, 1, 1, 1, 1,\n",
              "       1, 1, 1, 1, 1, 1, 1, 1, 1, 1, 1, 1, 1, 1, 1, 1, 1, 1, 1, 1, 1, 1,\n",
              "       1, 1, 1, 1, 1, 1, 1, 1, 1, 1, 1, 1, 1, 1, 2, 2, 2, 2, 2, 2, 2, 2,\n",
              "       2, 2, 2, 2, 2, 1, 2, 2, 2, 1, 2, 2, 2, 2, 2, 2, 2, 1, 2, 2, 2, 2,\n",
              "       2, 2, 2, 2, 2, 2, 2, 2, 1, 2, 1, 2, 2, 1, 1, 2, 2, 1])"
            ]
          },
          "metadata": {
            "tags": []
          },
          "execution_count": 13
        }
      ]
    },
    {
      "cell_type": "code",
      "metadata": {
        "colab": {
          "base_uri": "https://localhost:8080/",
          "height": 513
        },
        "id": "fZWc9pKUjcgm",
        "outputId": "064efc92-aa57-413a-f30d-c9699db04a6f"
      },
      "source": [
        "\n",
        "\n",
        "# Create color maps\n",
        "cmap_light = ListedColormap(['#FFAAAA', '#E6E6FA','#C0C0C0'])\n",
        "cmap_bold = ListedColormap(['#FF0000', '#00FF00','#00AAFF'])\n",
        "\n",
        "# we create an instance of Neighbours Classifier and fit the data.\n",
        "classifier = neighbors.KNeighborsClassifier(8, weights='distance')\n",
        "classifier.fit(X, y)\n",
        "\n",
        "# calculate min, max and limits\n",
        "x_min, x_max = X[:, 0].min() - 1, X[:, 0].max() + 1\n",
        "y_min, y_max = X[:, 1].min() - 1, X[:, 1].max() + 1\n",
        "\n",
        "# Create a rectangular grid out of two given one-dimensional arrays \n",
        "xx, yy = np.meshgrid(np.arange(x_min, x_max, 2),\n",
        "np.arange(y_min, y_max, 2))\n",
        "\n",
        "# predict class using data and kNN classifier\n",
        "Z = classifier.predict(np.c_[xx.ravel(), yy.ravel()])  #use ravel to flatten the array to a 1D array\n",
        "\n",
        "# Put the result into a color plot\n",
        "Z = Z.reshape(xx.shape)\n",
        "plt.figure(2, figsize=(10, 8))\n",
        "\n",
        "# create a pseudocolor plot with a non-regular rectangular grid\n",
        "plt.pcolormesh(xx, yy, Z, cmap=cmap_light)\n",
        "\n",
        "# Plot also the training points\n",
        "plt.scatter(X[:, 0], X[:, 1], c=y, cmap=cmap_bold)\n",
        "\n",
        "#  set the x limits of the current axes.\n",
        "plt.xlim(xx.min(), xx.max())\n",
        "plt.ylim(yy.min(), yy.max())\n",
        "plt.title(\"3-Class classification (k = %i)\" % (7))\n",
        "plt.xlabel(iris.feature_names[0])\n",
        "plt.ylabel(iris.feature_names[1])\n",
        "plt.show()"
      ],
      "execution_count": 14,
      "outputs": [
        {
          "output_type": "display_data",
          "data": {
            "image/png": "[encoded data removed]",
            "text/plain": [
              "<Figure size 720x576 with 1 Axes>"
            ]
          },
          "metadata": {
            "tags": [],
            "needs_background": "light"
          }
        }
      ]
    },
    {
      "cell_type": "code",
      "metadata": {
        "colab": {
          "base_uri": "https://localhost:8080/"
        },
        "id": "r9h1iPXbjm-X",
        "outputId": "a5e24f4c-a83b-473b-9df8-f24ab43c96c9"
      },
      "source": [
        "\n",
        "\n",
        "# Make a prediction\n",
        "#sl = raw_input('Enter sepal length (cm): ')\n",
        "##sw = raw_input('Enter sepal width (cm): ')\n",
        "sl = 6.5\n",
        "sw = 2.9\n",
        "dataClass = classifier.predict([[sl,sw]])\n",
        "print('Prediction: '),\n",
        "\n",
        "if dataClass == 0:\n",
        "  print('Iris Setosa')\n",
        "elif dataClass == 1:\n",
        "  print('Iris Versicolour')\n",
        "else:\n",
        "  print('Iris Virginica')\n",
        "\n",
        "print(\"Accuracy:\",metrics.accuracy_score(y_test, y_pred))\n"
      ],
      "execution_count": 16,
      "outputs": [
        {
          "output_type": "stream",
          "text": [
            "Prediction: \n",
            "Iris Virginica\n",
            "Accuracy: 0.6481481481481481\n"
          ],
          "name": "stdout"
        }
      ]
    },
    {
      "cell_type": "code",
      "metadata": {
        "id": "MRr22-6ZG2ol",
        "colab": {
          "base_uri": "https://localhost:8080/"
        },
        "outputId": "62b5331e-d060-4c08-f88a-0ac6ad8d4ff1"
      },
      "source": [
        "\"\"\"\n",
        "KNN classifier with multple classes\n",
        "This data is the result of a chemical analysis of wines \n",
        "grown in the same region in Italy using\n",
        "three different cultivars (a grape variety which has been selectively cultivated.\n",
        "The analysis determined the quantities of 13 constituents found \n",
        " in each of the three types of wines.\n",
        "\"\"\"\n",
        "\n",
        "#Import scikit-learn dataset library\n",
        "from sklearn import datasets\n",
        "# Import train_test_split function\n",
        "from sklearn.model_selection import train_test_split\n",
        "#Import knearest neighbors Classifier model\n",
        "from sklearn.neighbors import KNeighborsClassifier\n",
        "#Import scikit-learn metrics module for accuracy calculation\n",
        "from sklearn import metrics\n",
        "\n",
        "#Load dataset\n",
        "wine = datasets.load_wine()\n",
        "\n",
        "# print features \n",
        "print(\"Wine features\", wine.feature_names)\n",
        "\n",
        "# print the labels (class_0, class_1, class_2)\n",
        "print(\"Wine classes\", wine.target_names)\n",
        "\n",
        "# print the wine data \n",
        "print(\"First 5 records wine data\", wine.data[0:5])\n",
        "\n",
        "# print the wine labels (0:Class_0, 1:Class_1, 2:Class_3) -type of cultivar\n",
        "print(\"Winte labels for the 3 classes\", wine.target)\n",
        "\n",
        "# print data(feature)shape\n",
        "print(wine.data.shape)\n",
        "\n",
        "\n",
        "# Split dataset into random train and test subsets\n",
        " #3 parameters features, target, and test_set size. # 70% training and 30% test\n",
        "X_train, X_test, y_train, y_test = train_test_split(wine.data, wine.target, test_size=0.3)\n",
        "\n",
        "\n",
        "#Create KNN Classifier implementing the k-nearest neighbors vote.\n",
        "knn = KNeighborsClassifier(n_neighbors=7)\n",
        "\n",
        "#Train the model using X as training data and y as target values\n",
        "knn.fit(X_train, y_train)\n",
        "\n",
        "#Predict the class labels for the provided data by \n",
        "#comparing actual test set values vs predicted values.\n",
        "y_pred = knn.predict(X_test)\n",
        "print(\"Response\", y_pred)\n",
        "\n",
        "\n",
        "#  Accuracy classification score,  how often is the classifier correct?\n",
        "print(\"Accuracy:\",metrics.accuracy_score(y_test, y_pred))"
      ],
      "execution_count": null,
      "outputs": [
        {
          "output_type": "stream",
          "text": [
            "Wine features ['alcohol', 'malic_acid', 'ash', 'alcalinity_of_ash', 'magnesium', 'total_phenols', 'flavanoids', 'nonflavanoid_phenols', 'proanthocyanins', 'color_intensity', 'hue', 'od280/od315_of_diluted_wines', 'proline']\n",
            "Wine classes ['class_0' 'class_1' 'class_2']\n",
            "First 5 records wine data [[1.423e+01 1.710e+00 2.430e+00 1.560e+01 1.270e+02 2.800e+00 3.060e+00\n",
            "  2.800e-01 2.290e+00 5.640e+00 1.040e+00 3.920e+00 1.065e+03]\n",
            " [1.320e+01 1.780e+00 2.140e+00 1.120e+01 1.000e+02 2.650e+00 2.760e+00\n",
            "  2.600e-01 1.280e+00 4.380e+00 1.050e+00 3.400e+00 1.050e+03]\n",
            " [1.316e+01 2.360e+00 2.670e+00 1.860e+01 1.010e+02 2.800e+00 3.240e+00\n",
            "  3.000e-01 2.810e+00 5.680e+00 1.030e+00 3.170e+00 1.185e+03]\n",
            " [1.437e+01 1.950e+00 2.500e+00 1.680e+01 1.130e+02 3.850e+00 3.490e+00\n",
            "  2.400e-01 2.180e+00 7.800e+00 8.600e-01 3.450e+00 1.480e+03]\n",
            " [1.324e+01 2.590e+00 2.870e+00 2.100e+01 1.180e+02 2.800e+00 2.690e+00\n",
            "  3.900e-01 1.820e+00 4.320e+00 1.040e+00 2.930e+00 7.350e+02]]\n",
            "Winte labels for the 3 classes [0 0 0 0 0 0 0 0 0 0 0 0 0 0 0 0 0 0 0 0 0 0 0 0 0 0 0 0 0 0 0 0 0 0 0 0 0\n",
            " 0 0 0 0 0 0 0 0 0 0 0 0 0 0 0 0 0 0 0 0 0 0 1 1 1 1 1 1 1 1 1 1 1 1 1 1 1\n",
            " 1 1 1 1 1 1 1 1 1 1 1 1 1 1 1 1 1 1 1 1 1 1 1 1 1 1 1 1 1 1 1 1 1 1 1 1 1\n",
            " 1 1 1 1 1 1 1 1 1 1 1 1 1 1 1 1 1 1 1 2 2 2 2 2 2 2 2 2 2 2 2 2 2 2 2 2 2\n",
            " 2 2 2 2 2 2 2 2 2 2 2 2 2 2 2 2 2 2 2 2 2 2 2 2 2 2 2 2 2 2]\n",
            "(178, 13)\n",
            "Response [2 0 0 0 2 2 1 2 2 2 1 0 1 0 0 0 2 0 2 1 1 1 0 1 2 0 0 1 2 1 2 0 0 2 2 2 1\n",
            " 2 2 2 2 2 1 0 2 2 1 1 2 1 2 1 2 0]\n",
            "Accuracy: 0.6481481481481481\n"
          ],
          "name": "stdout"
        }
      ]
    }
  ]
}