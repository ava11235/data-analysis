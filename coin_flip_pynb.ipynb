{
  "nbformat": 4,
  "nbformat_minor": 0,
  "metadata": {
    "colab": {
      "name": "coin_flip.pynb",
      "provenance": [],
      "authorship_tag": "ABX9TyOvmhbwW7436I9BPX6xGykD",
      "include_colab_link": true
    },
    "kernelspec": {
      "name": "python3",
      "display_name": "Python 3"
    },
    "language_info": {
      "name": "python"
    }
  },
  "cells": [
    {
      "cell_type": "markdown",
      "metadata": {
        "id": "view-in-github",
        "colab_type": "text"
      },
      "source": [
        "<a href=\"https://colab.research.google.com/github/ava11235/it125/blob/main/coin_flip_pynb.ipynb\" target=\"_parent\"><img src=\"https://colab.research.google.com/assets/colab-badge.svg\" alt=\"Open In Colab\"/></a>"
      ]
    },
    {
      "cell_type": "markdown",
      "metadata": {
        "id": "qXLOw-s4r6bY"
      },
      "source": [
        "### Coin Flip in Python\n",
        "\n",
        "Probability measures the likelihood of an event to occur.  When flipping a coin, there are two possible outcomes: heads(1) or tails(0). This type of experiment is called a Bernoulli or binomial trial and is used to represent problems with two possible outcomes. Each outcome is called an event. Events can be assigned probabilities. In the case of the coin flip, there is a 50% chance for heads and 50% chance for tails. \n",
        "We will use the bernoulli object from the scipy.stats library  to simulate the two possible outcomes from a coin flip. The numpy, random.seed() method will to set the random generator seed.  Another option is to use the rvs method's random_state parameter. The reason for setting the seed is so that the experiment results are reproducible. \n",
        "The coin flip will be simulated with the use of bernoulli.rvs() function. \n",
        "\n",
        "https://docs.scipy.org/doc/scipy/reference/generated/scipy.stats.bernoulli.html#scipy.stats.bernoulli\n",
        "\n"
      ]
    },
    {
      "cell_type": "code",
      "metadata": {
        "colab": {
          "base_uri": "https://localhost:8080/",
          "height": 435
        },
        "id": "b-icwYZgo3He",
        "outputId": "3724dcb1-288d-40b3-eaa7-18d22e46e960"
      },
      "source": [
        "\n",
        "# simulate the outcome of flipping a coin\n",
        "import seaborn as sns \n",
        "# import the bernoulli object \n",
        "from scipy.stats import bernoulli\n",
        "\n",
        "# set the random seed for reproducible results\n",
        "#np.random.seed(10)\n",
        "\n",
        "# Simulate 12 coin flips with 40% probability for heads\n",
        "coin_flips = bernoulli.rvs(p=0.6, size=10000)\n",
        "print(coin_flips)\n",
        "sum_coin_flips = sum(coin_flips)\n",
        "print(sum_coin_flips)\n",
        "\n",
        "ax = sns.displot(coin_flips,\n",
        "                  kde=False, color=\"lavender\")\n",
        "ax.set(xlabel='Bernoulli Distribution', ylabel='Frequency')"
      ],
      "execution_count": 9,
      "outputs": [
        {
          "output_type": "stream",
          "text": [
            "[0 1 1 ... 0 1 0]\n",
            "6066\n"
          ],
          "name": "stdout"
        },
        {
          "output_type": "execute_result",
          "data": {
            "text/plain": [
              "<seaborn.axisgrid.FacetGrid at 0x7feed59f8050>"
            ]
          },
          "metadata": {
            "tags": []
          },
          "execution_count": 9
        },
        {
          "output_type": "display_data",
          "data": {
            "image/png": "[encoded data removed]",
            "text/plain": [
              "<Figure size 360x360 with 1 Axes>"
            ]
          },
          "metadata": {
            "tags": [],
            "needs_background": "light"
          }
        }
      ]
    }
  ]
}